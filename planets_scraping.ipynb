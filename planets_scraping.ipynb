{
 "cells": [
  {
   "cell_type": "code",
   "execution_count": null,
   "id": "7506176c-f86e-4c73-af46-e1e62b07c425",
   "metadata": {},
   "outputs": [
    {
     "name": "stdout",
     "output_type": "stream",
     "text": [
      "✅ Dati raccolti: 756 righe salvate in 'pianeti_completi.csv'\n"
     ]
    }
   ],
   "source": [
    "from selenium import webdriver\n",
    "from selenium.webdriver.common.by import By\n",
    "from selenium.webdriver.common.action_chains import ActionChains\n",
    "from selenium.webdriver.support.ui import WebDriverWait\n",
    "from selenium.webdriver.support import expected_conditions as EC\n",
    "import time\n",
    "import csv\n",
    "\n",
    "driver = webdriver.Chrome()\n",
    "driver.get(\"https://holonetgalacticmap-frontend.vercel.app/planets/table\")\n",
    "wait = WebDriverWait(driver, 10)\n",
    "\n",
    "all_rows = []\n",
    "\n",
    "while True:\n",
    "    wait.until(EC.presence_of_element_located((By.CSS_SELECTOR, \"table\")))\n",
    "    rows = driver.find_elements(By.CSS_SELECTOR, \"table tbody tr\")\n",
    "    for row in rows:\n",
    "        cols = row.find_elements(By.TAG_NAME, \"td\")\n",
    "        data = [col.text.strip() for col in cols]\n",
    "        if data:\n",
    "            all_rows.append(data)\n",
    "    try:\n",
    "        next_button = wait.until(EC.presence_of_element_located(\n",
    "            (By.CSS_SELECTOR, \"button[aria-label='Next page']\")\n",
    "        ))\n",
    "        if next_button.get_attribute(\"aria-disabled\") == \"true\":\n",
    "            break\n",
    "        driver.execute_script(\"arguments[0].scrollIntoView({behavior: 'smooth', block: 'center'});\", next_button)\n",
    "        time.sleep(0.7)\n",
    "        next_button.click()\n",
    "        time.sleep(1.5)\n",
    "\n",
    "    except Exception as e:\n",
    "        print(\"Errore o fine pagine:\", e)\n",
    "        break\n",
    "\n",
    "driver.quit()\n",
    "\n",
    "\n",
    "with open(\"pianeti_completi.csv\", \"w\", newline=\"\", encoding=\"utf-8\") as f:\n",
    "    writer = csv.writer(f)\n",
    "    writer.writerows(all_rows)\n",
    "\n",
    "print(f\"Dati raccolti: {len(all_rows)} righe salvate in 'pianeti_completi.csv'\")\n"
   ]
  },
  {
   "cell_type": "code",
   "execution_count": 71,
   "id": "a2dd32c0-a576-4074-9081-096390dafd2a",
   "metadata": {},
   "outputs": [
    {
     "ename": "AttributeError",
     "evalue": "'NoneType' object has no attribute 'find'",
     "output_type": "error",
     "traceback": [
      "\u001b[1;31m---------------------------------------------------------------------------\u001b[0m",
      "\u001b[1;31mAttributeError\u001b[0m                            Traceback (most recent call last)",
      "Cell \u001b[1;32mIn[71], line 1\u001b[0m\n\u001b[1;32m----> 1\u001b[0m tbody \u001b[38;5;241m=\u001b[39m table\u001b[38;5;241m.\u001b[39mfind(\u001b[38;5;124m\"\u001b[39m\u001b[38;5;124mtbody\u001b[39m\u001b[38;5;124m\"\u001b[39m)\n\u001b[0;32m      2\u001b[0m rows \u001b[38;5;241m=\u001b[39m tbody\u001b[38;5;241m.\u001b[39mfind_all(\u001b[38;5;124m\"\u001b[39m\u001b[38;5;124mtr\u001b[39m\u001b[38;5;124m\"\u001b[39m)\n",
      "\u001b[1;31mAttributeError\u001b[0m: 'NoneType' object has no attribute 'find'"
     ]
    }
   ],
   "source": [
    "tbody = table.find(\"tbody\")\n",
    "rows = tbody.find_all(\"tr\")\n"
   ]
  },
  {
   "cell_type": "code",
   "execution_count": null,
   "id": "6a91fc4d-a841-40e5-b32b-9032ccb8d97f",
   "metadata": {},
   "outputs": [],
   "source": []
  }
 ],
 "metadata": {
  "kernelspec": {
   "display_name": "Python [conda env:base] *",
   "language": "python",
   "name": "conda-base-py"
  },
  "language_info": {
   "codemirror_mode": {
    "name": "ipython",
    "version": 3
   },
   "file_extension": ".py",
   "mimetype": "text/x-python",
   "name": "python",
   "nbconvert_exporter": "python",
   "pygments_lexer": "ipython3",
   "version": "3.12.7"
  }
 },
 "nbformat": 4,
 "nbformat_minor": 5
}
